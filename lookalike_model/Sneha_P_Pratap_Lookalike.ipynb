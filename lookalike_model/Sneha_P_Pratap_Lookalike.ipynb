{
 "cells": [
  {
   "cell_type": "code",
   "execution_count": 4,
   "metadata": {},
   "outputs": [],
   "source": [
    "import pandas as pd\n",
    "from sklearn.metrics.pairwise import cosine_similarity\n",
    "import numpy as np\n",
    "\n",
    "transactions = pd.read_csv('C:/Users/sneha/OneDrive/Desktop/Zeotap-Data-Science-Assignment/data/Transactions.csv')\n",
    "\n",
    "customer_product_matrix = transactions.pivot_table(index='CustomerID', columns='ProductID', values='Quantity', fill_value=0)\n",
    "\n",
    "similarity_matrix = cosine_similarity(customer_product_matrix)\n",
    "similarity_df = pd.DataFrame(similarity_matrix, index=customer_product_matrix.index, columns=customer_product_matrix.index)\n",
    "\n",
    "lookalikes = {}\n",
    "for cust_id in similarity_df.index:\n",
    "    similar_customers = similarity_df.loc[cust_id].sort_values(ascending=False).iloc[1:4]\n",
    "    lookalikes[cust_id] = list(zip(similar_customers.index, similar_customers.values))\n",
    "\n",
    "lookalike_data = [\n",
    "    {'cust_id': cust_id, 'similar_cust_id': sim[0], 'similarity_score': sim[1]}\n",
    "    for cust_id, sims in lookalikes.items() for sim in sims\n",
    "]\n",
    "lookalike_df = pd.DataFrame(lookalike_data)\n",
    "lookalike_df.to_csv('C:/Users/sneha/OneDrive/Desktop/Zeotap-Data-Science-Assignment/lookalike_model/Sneha_P_Pratap_lookalike.csv', index=False)\n"
   ]
  },
  {
   "cell_type": "code",
   "execution_count": null,
   "metadata": {},
   "outputs": [],
   "source": []
  }
 ],
 "metadata": {
  "kernelspec": {
   "display_name": "Python 3",
   "language": "python",
   "name": "python3"
  },
  "language_info": {
   "codemirror_mode": {
    "name": "ipython",
    "version": 3
   },
   "file_extension": ".py",
   "mimetype": "text/x-python",
   "name": "python",
   "nbconvert_exporter": "python",
   "pygments_lexer": "ipython3",
   "version": "3.12.2"
  }
 },
 "nbformat": 4,
 "nbformat_minor": 2
}
